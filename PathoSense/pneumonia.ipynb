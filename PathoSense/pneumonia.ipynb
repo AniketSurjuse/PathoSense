{
 "cells": [
  {
   "cell_type": "code",
   "execution_count": 1,
   "id": "4ec5eb04",
   "metadata": {},
   "outputs": [],
   "source": [
    "import tensorflow as tf"
   ]
  },
  {
   "cell_type": "code",
   "execution_count": 21,
   "id": "0d0a6280",
   "metadata": {},
   "outputs": [
    {
     "name": "stdout",
     "output_type": "stream",
     "text": [
      "TensorFlow Image Shape: (256, 256, 3)\n"
     ]
    }
   ],
   "source": [
    "# import tensorflow as tf\n",
    "import numpy as np\n",
    "from PIL import Image\n",
    "\n",
    "# Load an image using PIL (Python Imaging Library)\n",
    "image_path = r'C:\\Users\\savin\\Downloads\\pneumonia.jpeg'  # Replace with the actual path to your image\n",
    "img = Image.open(image_path)\n",
    "image = img.resize((256,256))\n",
    "image = image.convert('RGB')\n",
    "img_array = np.array(image)\n",
    "# Convert PIL image to a TensorFlow tensor\n",
    "# tf_image = tf.convert_to_tensor(np.array(pil_image))\n",
    "\n",
    "# Print the shape of the TensorFlow tensor (height, width, channels)\n",
    "print(\"TensorFlow Image Shape:\", img_array.shape)"
   ]
  },
  {
   "cell_type": "code",
   "execution_count": 22,
   "id": "e54c92e5",
   "metadata": {},
   "outputs": [],
   "source": [
    "img = img_array/255.0"
   ]
  },
  {
   "cell_type": "code",
   "execution_count": 24,
   "id": "5008a5c0",
   "metadata": {},
   "outputs": [
    {
     "data": {
      "text/plain": [
       "(256, 256, 3)"
      ]
     },
     "execution_count": 24,
     "metadata": {},
     "output_type": "execute_result"
    }
   ],
   "source": [
    "img.shape"
   ]
  },
  {
   "cell_type": "code",
   "execution_count": 31,
   "id": "9eeb2ead",
   "metadata": {},
   "outputs": [],
   "source": [
    "from keras.models import load_model\n",
    "model = load_model('CNN_model.h5')"
   ]
  },
  {
   "cell_type": "code",
   "execution_count": 36,
   "id": "d9561d5d",
   "metadata": {},
   "outputs": [],
   "source": [
    "original_shape = (256, 256, 3)\n",
    "new_shape = (1,) + original_shape\n",
    "\n",
    "# Create a numpy array with the new shape\n",
    "new_array = np.empty(new_shape, dtype=np.uint8)"
   ]
  },
  {
   "cell_type": "code",
   "execution_count": 45,
   "id": "6b1c2882",
   "metadata": {},
   "outputs": [
    {
     "name": "stdout",
     "output_type": "stream",
     "text": [
      "1/1 [==============================] - 0s 212ms/step\n"
     ]
    }
   ],
   "source": [
    "pred = model.predict(new_array)"
   ]
  },
  {
   "cell_type": "code",
   "execution_count": 46,
   "id": "c1ad930d",
   "metadata": {},
   "outputs": [
    {
     "data": {
      "text/plain": [
       "array([[0., 1.]], dtype=float32)"
      ]
     },
     "execution_count": 46,
     "metadata": {},
     "output_type": "execute_result"
    }
   ],
   "source": [
    "pred"
   ]
  },
  {
   "cell_type": "code",
   "execution_count": 47,
   "id": "9b9fb1a2",
   "metadata": {},
   "outputs": [],
   "source": [
    "def predict(img):\n",
    "    image = img.resize((256,256))\n",
    "    image = image.convert('RGB')\n",
    "    img_array = np.array(image)\n",
    "    img = img_array/255.0\n",
    "    original_shape = (256, 256, 3)\n",
    "    new_shape = (1,) + original_shape\n",
    "\n",
    "    # Create a numpy array with the new shape\n",
    "    new_array = np.empty(new_shape, dtype=np.uint8)\n",
    "    \n",
    "    y_pred = model.predict(new_array)\n",
    "    \n",
    "    if y_pred[0][0]==1:\n",
    "        print('normal')\n",
    "    else:\n",
    "        print('pneumonia')\n",
    "    "
   ]
  },
  {
   "cell_type": "code",
   "execution_count": 48,
   "id": "02c73083",
   "metadata": {},
   "outputs": [
    {
     "name": "stdout",
     "output_type": "stream",
     "text": [
      "1/1 [==============================] - 0s 228ms/step\n",
      "normal\n"
     ]
    }
   ],
   "source": [
    "image_path = r'C:\\Users\\savin\\Downloads\\normal.jpeg'  # Replace with the actual path to your image\n",
    "img = Image.open(image_path)\n",
    "predict(img)"
   ]
  },
  {
   "cell_type": "code",
   "execution_count": null,
   "id": "4b8b20ad",
   "metadata": {},
   "outputs": [],
   "source": []
  }
 ],
 "metadata": {
  "kernelspec": {
   "display_name": "Python 3 (ipykernel)",
   "language": "python",
   "name": "python3"
  },
  "language_info": {
   "codemirror_mode": {
    "name": "ipython",
    "version": 3
   },
   "file_extension": ".py",
   "mimetype": "text/x-python",
   "name": "python",
   "nbconvert_exporter": "python",
   "pygments_lexer": "ipython3",
   "version": "3.10.9"
  }
 },
 "nbformat": 4,
 "nbformat_minor": 5
}
